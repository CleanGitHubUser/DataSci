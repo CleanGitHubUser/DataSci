{
 "cells": [
  {
   "cell_type": "code",
   "execution_count": 1,
   "metadata": {
    "collapsed": true
   },
   "outputs": [
    {
     "name": "stdout",
     "output_type": "stream",
     "text": [
      "하하하\n"
     ]
    }
   ],
   "source": [
    "print('하하하')"
   ]
  },
  {
   "cell_type": "code",
   "execution_count": 10,
   "metadata": {},
   "outputs": [
    {
     "data": {
      "text/plain": [
       "array([[0.0184251 , 0.68998681, 0.85887289, 0.49251629],\n       [0.23326818, 0.79145646, 0.79625743, 0.39042176],\n       [0.86901202, 0.76433357, 0.01669926, 0.98294015]])"
      ]
     },
     "execution_count": 10,
     "metadata": {},
     "output_type": "execute_result"
    }
   ],
   "source": [
    "import numpy as np\n",
    "from numpy import genfromtxt\n",
    "\n",
    "np.random.rand(3, 4) # 3x4행렬에 난수 생성"
   ]
  },
  {
   "cell_type": "code",
   "execution_count": 3,
   "metadata": {},
   "outputs": [
    {
     "name": "stdout",
     "output_type": "stream",
     "text": [
      "평균 5.666666666666667\n합계 34.0\n최대값 8.6\n최소값 3.0\n분산 3.465555555555555\n표준편차 1.8616002673924268\n"
     ]
    }
   ],
   "source": [
    "list = [3, 4.1 , 5, 6.3, 7, 8.6] # 단일 리스트\n",
    "arr = np.array(list)\n",
    "\n",
    "print('평균', arr.mean()) # 기술통계\n",
    "print('합계', arr.sum())\n",
    "print('최대값', arr.max())\n",
    "print('최소값', arr.min())\n",
    "print('분산', arr.var())\n",
    "print('표준편차', arr.std())"
   ]
  },
  {
   "cell_type": "code",
   "execution_count": 5,
   "metadata": {},
   "outputs": [
    {
     "name": "stdout",
     "output_type": "stream",
     "text": [
      "[[9 8 7 6 5]\n [1 2 3 4 5]]\n7\n5\n[9 8 7 6 5]\n[8 2]\n"
     ]
    }
   ],
   "source": [
    "list = [ [9, 8, 7, 6, 5], [1, 2, 3, 4, 5] ] # 중첩리스트\n",
    "arr = np.array(list)\n",
    "print(arr)\n",
    "print(arr[0, 2]) # 7\n",
    "print(arr[1, 4]) # 4\n",
    "print(arr[0, :]) # 9 8 7 6 5 행 전체 출력\n",
    "print(arr[:, 1]) # 8 2       열 전체 출력"
   ]
  },
  {
   "cell_type": "code",
   "execution_count": 6,
   "metadata": {},
   "outputs": [
    {
     "name": "stdout",
     "output_type": "stream",
     "text": [
      "[[ 1.  2.  3.  4.  5.]\n [ 6.  7.  8.  9. 10.]\n [11. 12. 13. 14. 15.]]\n"
     ]
    }
   ],
   "source": [
    "# 자동으로 채워지는 행렬 생성\n",
    "zarr = np.zeros( (3, 5) ) # 0으로 채워지는 3x5 행렬 생성\n",
    "\n",
    "# 정수 생성\n",
    "cnt = 0\n",
    "for i in np.arange(3):\n",
    "    for j in np.arange(5):\n",
    "        cnt += 1\n",
    "        zarr[i, j] = cnt\n",
    "\n",
    "print(zarr)\n"
   ]
  },
  {
   "cell_type": "code",
   "execution_count": 8,
   "metadata": {},
   "outputs": [
    {
     "name": "stdout",
     "output_type": "stream",
     "text": [
      "[[2015.  2015.     5. ]\n [2014.  2015.     4.5]\n [2015.  2015.     5. ]\n [2015.  2016.     5. ]\n [2015.  2015.     5. ]\n [2016.  2016.     5.5]\n [2016.  2016.     6. ]\n [2014.  2014.     5. ]\n [2014.  2014.     4.5]\n [2015.  2014.     5. ]\n [2014.  2015.     4.5]\n [2015.  2015.     5.5]\n [2015.  2016.     5.5]\n [2015.  2015.     6. ]\n [2015.  2015.     5.5]\n [2015.  2015.     5. ]\n [2016.  2016.     5.5]\n [2016.  2016.     6. ]\n [2015.  2015.     4.5]\n [2016.  2016.     5.5]\n [2015.  2015.     5.5]\n [2016.  2016.     5.5]\n [2015.  2015.     5. ]\n [2016.  2016.     6. ]]\n5.25\n5.25\n총 갯수 : 24\n4.5\n5.0\n5.25\n5.5\n6.0\n"
     ]
    },
    {
     "name": "stdout",
     "output_type": "stream",
     "text": [
      "DescribeResult(nobs=24, minmax=(4.5, 6.0), mean=5.25, variance=0.2391304347826087, skewness=0.0, kurtosis=-0.942148760330578)\n"
     ]
    }
   ],
   "source": [
    "# 외부 csv 파일 읽어서 배열 생성\n",
    "phone = genfromtxt('D:/빅데이터/data/pdf/빅데이터/데이터분석통계/data/phone-01.csv', delimiter = ',')\n",
    "print(phone)\n",
    "print( np.mean( phone[:, 2] ) ) # 화면크기 항목에 대한 평균 출력\n",
    "print( np.median( phone[:, 2] ) ) # 화면크기 항목에 대한 평균 출력\n",
    "\n",
    "print('총 갯수 :', len(phone))\n",
    "\n",
    "p_col3 = phone[:, 2]\n",
    "print(np.percentile(p_col3, 0)) # 사분위값 : 최소값\n",
    "print(np.percentile(p_col3, 25)) # 1사분위값\n",
    "print(np.percentile(p_col3, 50)) # 2사분위값\n",
    "print(np.percentile(p_col3, 75)) # 3사분위값\n",
    "print(np.percentile(p_col3, 100)) # 사분위값 : 최대값\n",
    "\n",
    "# scipy에는 여러가지 기술통계를 한번에 계산해주는\n",
    "# describe 함수가 있음\n",
    "from scipy.stats import describe\n",
    "print( describe(p_col3) )"
   ]
  },
  {
   "cell_type": "code",
   "execution_count": null,
   "metadata": {},
   "outputs": [],
   "source": []
  }
 ],
 "metadata": {
  "kernelspec": {
   "display_name": "Python 2",
   "language": "python",
   "name": "python2"
  },
  "language_info": {
   "codemirror_mode": {
    "name": "ipython",
    "version": 2
   },
   "file_extension": ".py",
   "mimetype": "text/x-python",
   "name": "python",
   "nbconvert_exporter": "python",
   "pygments_lexer": "ipython2",
   "version": "2.7.6"
  }
 },
 "nbformat": 4,
 "nbformat_minor": 0
}
